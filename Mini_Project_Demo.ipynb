{
  "cells": [
    {
      "cell_type": "code",
      "execution_count": 46,
      "id": "851fe013-94bd-4505-8d36-04e3977fe8f9",
      "metadata": {
        "id": "851fe013-94bd-4505-8d36-04e3977fe8f9"
      },
      "outputs": [],
      "source": [
        "# Import necessary libraries\n",
        "import keras\n",
        "import sklearn\n",
        "import numpy as np\n",
        "import tensorflow as tf\n",
        "from keras.models import Model\n",
        "import matplotlib.pyplot as plot\n",
        "from keras.optimizers import SGD\n",
        "from keras.models import Sequential\n",
        "from sklearn.preprocessing import OneHotEncoder\n",
        "from tensorflow.keras import datasets,models,layers\n",
        "from keras.preprocessing.image import ImageDataGenerator\n",
        "from keras.layers import Dense, Conv2D, MaxPool2D, Flatten, GlobalAveragePooling2D, BatchNormalization, Layer, Add"
      ]
    },
    {
      "cell_type": "code",
      "execution_count": 47,
      "id": "b52bba8c-0dfe-4fc9-b9f6-d5ca5b358b27",
      "metadata": {
        "colab": {
          "base_uri": "https://localhost:8080/"
        },
        "id": "b52bba8c-0dfe-4fc9-b9f6-d5ca5b358b27",
        "outputId": "1742334c-11a3-46ba-f01d-8b96fee31885"
      },
      "outputs": [
        {
          "output_type": "stream",
          "name": "stdout",
          "text": [
            "(50000, 32, 32, 3)\n",
            "(50000, 1)\n",
            "(10000, 32, 32, 3)\n",
            "(10000, 1)\n"
          ]
        }
      ],
      "source": [
        "# Loading cifar10 data\n",
        "(x_train, y_train), (x_test, y_test) = keras.datasets.cifar10.load_data()\n",
        "\n",
        "# Checking # of training and testing images\n",
        "print(x_train.shape)\n",
        "print(y_train.shape)\n",
        "print(x_test.shape)\n",
        "print(y_test.shape)"
      ]
    },
    {
      "cell_type": "code",
      "execution_count": 48,
      "id": "u6Qh-1mPmkE2",
      "metadata": {
        "id": "u6Qh-1mPmkE2"
      },
      "outputs": [],
      "source": [
        "# Normalizing image data\n",
        "x_train = x_train.astype('float32')\n",
        "x_test = x_test.astype('float32')\n",
        "x_train /= 255.0\n",
        "x_test /= 255.0"
      ]
    },
    {
      "cell_type": "code",
      "execution_count": 49,
      "id": "2afbb370-1227-4680-9f7a-56f5e39034dd",
      "metadata": {
        "colab": {
          "base_uri": "https://localhost:8080/"
        },
        "id": "2afbb370-1227-4680-9f7a-56f5e39034dd",
        "outputId": "0e7bba63-e51f-4280-ef6e-02fd55c3bd5d"
      },
      "outputs": [
        {
          "output_type": "stream",
          "name": "stdout",
          "text": [
            "Before one hot encoding, the categories are:\n",
            "[[6]\n",
            " [9]\n",
            " [9]\n",
            " ...\n",
            " [9]\n",
            " [1]\n",
            " [1]]\n",
            "After one hot encoding, the categories are:\n",
            "[[0. 0. 0. ... 0. 0. 0.]\n",
            " [0. 0. 0. ... 0. 0. 1.]\n",
            " [0. 0. 0. ... 0. 0. 1.]\n",
            " ...\n",
            " [0. 0. 0. ... 0. 0. 1.]\n",
            " [0. 1. 0. ... 0. 0. 0.]\n",
            " [0. 1. 0. ... 0. 0. 0.]]\n"
          ]
        }
      ],
      "source": [
        "# Rebuild labels using one hot encoder\n",
        "encoder = OneHotEncoder()\n",
        "encoder.fit(y_train)\n",
        "Y_train = encoder.transform(y_train).toarray()\n",
        "Y_test = encoder.transform(y_test).toarray()\n",
        "print('Before one hot encoding, the categories are:')\n",
        "print(y_train)\n",
        "print('After one hot encoding, the categories are:')\n",
        "print(Y_train)"
      ]
    },
    {
      "cell_type": "code",
      "execution_count": 50,
      "id": "910c6a55-bbf2-4fe6-a6ff-d9e66de0d8b4",
      "metadata": {
        "id": "910c6a55-bbf2-4fe6-a6ff-d9e66de0d8b4"
      },
      "outputs": [],
      "source": [
        "# Applying data augmentation on images\n",
        "augmen = ImageDataGenerator(featurewise_center=True,\n",
        "                            featurewise_std_normalization=True,\n",
        "                            horizontal_flip=True,\n",
        "                            width_shift_range=[0.04, 0.1, 0.4],\n",
        "                            height_shift_range=[0.04, 0.1, 0.4],\n",
        "                            rotation_range=25,\n",
        "                            zoom_range=[1.0, 1.3])\n",
        "augmen.fit(x_train)"
      ]
    },
    {
      "cell_type": "code",
      "execution_count": 51,
      "id": "ef9f4f8a-0d78-477b-8907-40db979ef875",
      "metadata": {
        "id": "ef9f4f8a-0d78-477b-8907-40db979ef875"
      },
      "outputs": [],
      "source": [
        "# ResNet Block Setting Up\n",
        "# Code reference: https://github.com/meliketoy/wide-resnet.pytorch/blob/master/networks/resnet.py\n",
        "# Paper reference: https://arxiv.org/pdf/1512.03385.pdf\n",
        "class ResnetBasicBlock(Model):\n",
        "    \n",
        "    def __init__(self, channels: int, down_sample=False):\n",
        "    \n",
        "        kernel_size=(2, 2)\n",
        "        # channels: same as number of convolution kernels\n",
        "        super().__init__()\n",
        "\n",
        "        self.__channels = channels\n",
        "        self.__down_sample = down_sample\n",
        "        if down_sample:\n",
        "            self.__strides = [2, 1]\n",
        "        else:\n",
        "            self.__strides = [1, 1]\n",
        "\n",
        "        # We are using glorot_uniform here as initializer, but in the\n",
        "        # reference, the author used 'he_normal', which is suggested by them.\n",
        "        initializer = 'glorot_uniform'\n",
        "        \n",
        "        # Initialization of the first layer\n",
        "        self.conv_1 = Conv2D(self.__channels,\n",
        "                             strides=self.__strides[0],\n",
        "                             kernel_size=kernel_size, \n",
        "                             padding=\"same\", \n",
        "                             kernel_initializer=initializer)\n",
        "        self.bn_1 = BatchNormalization()\n",
        "        \n",
        "        # Initialization of the second layer\n",
        "        self.conv_2 = Conv2D(self.__channels,\n",
        "                             strides=self.__strides[1],\n",
        "                             kernel_size=kernel_size,\n",
        "                             padding=\"same\",\n",
        "                             kernel_initializer=initializer)\n",
        "        self.bn_2 = BatchNormalization()\n",
        "        \n",
        "        self.merge = Add()\n",
        "        \n",
        "        # If there is a skipping, using value of strides to be 2. \n",
        "        if self.__down_sample:\n",
        "            self.res_conv = Conv2D(self.__channels,strides=2,\n",
        "                                   kernel_size=(1, 1),\n",
        "                                   kernel_initializer=initializer,\n",
        "                                   padding=\"same\")\n",
        "            self.res_bn = BatchNormalization()\n",
        "\n",
        "    def call(self, inputs):\n",
        "        res = inputs\n",
        "\n",
        "        # We follow the chain:conv -> BN -> ReLu -> conv -> BN\n",
        "        x = self.conv_1(inputs)\n",
        "        x = self.bn_1(x)\n",
        "        x = tf.nn.relu(x)\n",
        "        x = self.conv_2(x)\n",
        "        x = self.bn_2(x)\n",
        "\n",
        "        # If there is down sample\n",
        "        if self.__down_sample:\n",
        "            res = self.res_conv(res)\n",
        "            res = self.res_bn(res)\n",
        "\n",
        "        # If there is no down sample, then add a shortcut directly\n",
        "        x = self.merge([x, res])\n",
        "        out = tf.nn.relu(x)\n",
        "        return out\n"
      ]
    },
    {
      "cell_type": "code",
      "execution_count": 52,
      "id": "31d23941-fcfe-48ac-8b49-41433912544c",
      "metadata": {
        "id": "31d23941-fcfe-48ac-8b49-41433912544c"
      },
      "outputs": [],
      "source": [
        "# Here, we create the ResNet18 model. \n",
        "# Code Reference: https://github.com/meliketoy/wide-resnet.pytorch/blob/master/networks/resnet.py\n",
        "# Paper Reference: https://arxiv.org/pdf/1512.03385.pdf\n",
        "class ResNet18(Model):\n",
        "\n",
        "    def __init__(self, num_classes, **kwargs):\n",
        "  \n",
        "        super().__init__(**kwargs)\n",
        "        self.conv_1 = Conv2D(64, (7, 7), strides=2,\n",
        "                             padding=\"same\", \n",
        "                             kernel_initializer=\"he_normal\")\n",
        "        self.init_bn = BatchNormalization()\n",
        "\n",
        "        self.pool_2 = MaxPool2D(pool_size=(3, 3), strides=2, padding=\"same\")\n",
        "        self.res_11 = ResnetBasicBlock(64)\n",
        "        self.res_12 = ResnetBasicBlock(64)\n",
        "\n",
        "        self.res_21 = ResnetBasicBlock(128, down_sample=True)\n",
        "        self.res_22 = ResnetBasicBlock(128)\n",
        "\n",
        "        self.res_31 = ResnetBasicBlock(256, down_sample=True)\n",
        "        self.res_32 = ResnetBasicBlock(256)\n",
        "\n",
        "        self.res_41 = ResnetBasicBlock(512, down_sample=True)\n",
        "        self.res_42 = ResnetBasicBlock(512)\n",
        "\n",
        "        self.avg_pool = GlobalAveragePooling2D()\n",
        "        self.flat = Flatten()\n",
        "        self.fc = Dense(num_classes, activation=\"softmax\")\n",
        "\n",
        "    def call(self, inputs):\n",
        "        out = self.conv_1(inputs)\n",
        "        out = self.init_bn(out)\n",
        "        out = tf.nn.relu(out)\n",
        "        out = self.pool_2(out)\n",
        "        for res_block in [self.res_11, self.res_12, self.res_21, self.res_22, self.res_31, self.res_32, self.res_41, self.res_42]:\n",
        "            out = res_block(out)\n",
        "\n",
        "        out = self.avg_pool(out)\n",
        "        out = self.flat(out)\n",
        "        out = self.fc(out)\n",
        "        return out"
      ]
    },
    {
      "cell_type": "code",
      "execution_count": 56,
      "id": "69a14fc4-fd58-4a44-bcd7-1c28f307bee1",
      "metadata": {
        "id": "69a14fc4-fd58-4a44-bcd7-1c28f307bee1"
      },
      "outputs": [],
      "source": [
        "input_shape = (None, 32, 32, 3)\n",
        "num_classes = 10\n",
        "model = ResNet18(num_classes)\n",
        "model.build(input_shape=input_shape)\n",
        "optimizer = SGD(learning_rate=0.1, momentum=0.9, decay=1e-04)\n",
        "# model.compile(optimizer = \"adam\",loss='categorical_crossentropy', metrics=[\"accuracy\"])\n",
        "model.compile(optimizer=optimizer, loss='categorical_crossentropy', metrics=[\"accuracy\"])"
      ]
    },
    {
      "cell_type": "code",
      "execution_count": 57,
      "id": "b44ee361-1c25-4317-a4ef-5d9480809368",
      "metadata": {
        "colab": {
          "base_uri": "https://localhost:8080/"
        },
        "id": "b44ee361-1c25-4317-a4ef-5d9480809368",
        "outputId": "0accb842-9e97-4edb-8844-708dc24143e8"
      },
      "outputs": [
        {
          "output_type": "stream",
          "name": "stdout",
          "text": [
            "Epoch 1/10\n",
            "195/195 [==============================] - 39s 184ms/step - loss: 2.5916 - accuracy: 0.2290 - val_loss: 2.0611 - val_accuracy: 0.2307\n",
            "Epoch 2/10\n",
            "195/195 [==============================] - 36s 183ms/step - loss: 1.8674 - accuracy: 0.3165 - val_loss: 2.3794 - val_accuracy: 0.1666\n",
            "Epoch 3/10\n",
            "195/195 [==============================] - 38s 196ms/step - loss: 1.7277 - accuracy: 0.3628 - val_loss: 2.9075 - val_accuracy: 0.1520\n",
            "Epoch 4/10\n",
            "195/195 [==============================] - 36s 183ms/step - loss: 1.6383 - accuracy: 0.3961 - val_loss: 2.9980 - val_accuracy: 0.1159\n",
            "Epoch 5/10\n",
            "195/195 [==============================] - 35s 180ms/step - loss: 1.5642 - accuracy: 0.4238 - val_loss: 3.0888 - val_accuracy: 0.1311\n",
            "Epoch 6/10\n",
            "195/195 [==============================] - 37s 187ms/step - loss: 1.5052 - accuracy: 0.4467 - val_loss: 3.2255 - val_accuracy: 0.1178\n",
            "Epoch 7/10\n",
            "195/195 [==============================] - 36s 185ms/step - loss: 1.4561 - accuracy: 0.4693 - val_loss: 3.2692 - val_accuracy: 0.1423\n",
            "Epoch 8/10\n",
            "195/195 [==============================] - 36s 185ms/step - loss: 1.4154 - accuracy: 0.4823 - val_loss: 3.1832 - val_accuracy: 0.1629\n",
            "Epoch 9/10\n",
            "195/195 [==============================] - 37s 190ms/step - loss: 1.3627 - accuracy: 0.5046 - val_loss: 2.9150 - val_accuracy: 0.1598\n",
            "Epoch 10/10\n",
            "195/195 [==============================] - 37s 187ms/step - loss: 1.3322 - accuracy: 0.5162 - val_loss: 3.2256 - val_accuracy: 0.1691\n"
          ]
        }
      ],
      "source": [
        "# Training the ResNet Model\n",
        "epochs = 10\n",
        "# epochs = 50\n",
        "step = len(x_train) / 256\n",
        "history = model.fit(augmen.flow(x_train,Y_train,batch_size = 256), steps_per_epoch=step, batch_size = 256, epochs=epochs,\n",
        "                    validation_data=(x_test, Y_test))"
      ]
    },
    {
      "cell_type": "code",
      "execution_count": 58,
      "id": "fc2b4ecd-758e-4a68-8407-077d98037128",
      "metadata": {
        "colab": {
          "base_uri": "https://localhost:8080/",
          "height": 312
        },
        "id": "fc2b4ecd-758e-4a68-8407-077d98037128",
        "outputId": "d51b0577-24c3-41aa-9177-8fdd61b30d53"
      },
      "outputs": [
        {
          "output_type": "execute_result",
          "data": {
            "text/plain": [
              "<matplotlib.legend.Legend at 0x7fc3e7a0cd90>"
            ]
          },
          "metadata": {},
          "execution_count": 58
        },
        {
          "output_type": "display_data",
          "data": {
            "text/plain": [
              "<Figure size 432x288 with 1 Axes>"
            ],
            "image/png": "[encoded data removed]"
          },
          "metadata": {
            "needs_background": "light"
          }
        }
      ],
      "source": [
        "# Plotting model accuracy\n",
        "plot.plot(history.history['accuracy'])\n",
        "plot.plot(history.history['val_accuracy'])\n",
        "plot.title('Training and Validation Accuracy')\n",
        "plot.xlabel('Epoch')\n",
        "plot.ylabel('Accuracy')\n",
        "plot.legend(['train', 'validate'])"
      ]
    },
    {
      "cell_type": "code",
      "execution_count": 59,
      "id": "59d79a0c-6f78-427e-9230-a14cbd5f46c9",
      "metadata": {
        "colab": {
          "base_uri": "https://localhost:8080/",
          "height": 312
        },
        "id": "59d79a0c-6f78-427e-9230-a14cbd5f46c9",
        "outputId": "c215a310-e59b-4071-83f6-1e22371856b9"
      },
      "outputs": [
        {
          "output_type": "execute_result",
          "data": {
            "text/plain": [
              "<matplotlib.legend.Legend at 0x7fc64900bfd0>"
            ]
          },
          "metadata": {},
          "execution_count": 59
        },
        {
          "output_type": "display_data",
          "data": {
            "text/plain": [
              "<Figure size 432x288 with 1 Axes>"
            ],
            "image/png": "[encoded data removed]"
          },
          "metadata": {
            "needs_background": "light"
          }
        }
      ],
      "source": [
        "# Plotting model loss\n",
        "plot.plot(history.history['loss'])\n",
        "plot.plot(history.history['val_loss'])\n",
        "plot.title('Training and Validation Losses')\n",
        "plot.xlabel('Epoch')\n",
        "plot.ylabel('Loss')\n",
        "plot.legend(['train', 'validate'])"
      ]
    }
  ],
  "metadata": {
    "colab": {
      "provenance": []
    },
    "gpuClass": "standard",
    "kernelspec": {
      "display_name": "Python 3",
      "name": "python3"
    },
    "language_info": {
      "name": "python"
    },
    "accelerator": "GPU"
  },
  "nbformat": 4,
  "nbformat_minor": 5
}